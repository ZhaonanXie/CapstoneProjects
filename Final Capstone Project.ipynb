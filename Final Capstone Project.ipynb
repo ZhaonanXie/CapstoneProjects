{
 "cells": [
  {
   "cell_type": "markdown",
   "metadata": {},
   "source": [
    "# Capstone Project"
   ]
  },
  {
   "cell_type": "markdown",
   "metadata": {},
   "source": [
    "## Table of contents\n",
    "* [Introduction: Business Problem](#Introduction)\n",
    "* [Data](#Data)\n",
    "* [Methodology](#methodology)\n",
    "* [Analysis](#analysis)\n",
    "* [Results and Discussion](#results)\n",
    "* [Conclusion](#conclusion)"
   ]
  },
  {
   "cell_type": "markdown",
   "metadata": {},
   "source": [
    "## Introduction"
   ]
  },
  {
   "cell_type": "markdown",
   "metadata": {},
   "source": [
    "In this project, we aim to find the optimal location to open Chinese restaurant in Dublin. The question of interest would be:    \n",
    "**\"Would you recommend a location in Dublin to open a new Chinese restaurant?\"**   \n",
    "The number of Chinese restaurants in Dublin is relatively small. There might be potential benefits if it opens.\n",
    "Therefore, this report will be targeted to stakeholders interested in opening an Chinese restaurant in Dublin, Ireland.\n",
    "\n",
    "Since there are lots of restaurants in Dublin we will try to detect **locations that are not already crowded with restaurants**. We are also particularly interested in **areas with no Chinese restaurants in vicinity**. We would also prefer locations **as close to city center as possible**, assuming that first two conditions are met.\n",
    "\n",
    "In this project, the selection of the locations is assumed to be highly dependent on its nearby environment instead of the economic factors such as rental prince.\n",
    "The main task would be to select the 5 possible locations to open the cinema and explain them to stakeholders.\n"
   ]
  },
  {
   "cell_type": "markdown",
   "metadata": {},
   "source": [
    "## Data"
   ]
  },
  {
   "cell_type": "markdown",
   "metadata": {},
   "source": [
    "Based on definition of our problem, factors that will influence our decission are:\n",
    "* number of existing restaurants in the neighborhood (any type of restaurant)\n",
    "* number of and distance to Italian restaurants in the neighborhood, if any\n",
    "* distance of neighborhood from city center\n",
    "\n",
    "We decided to use regularly spaced grid of locations, centered around city center, to define our neighborhoods.\n",
    "\n",
    "Following data sources will be needed to extract/generate the required information:\n",
    "* centers of candidate areas will be generated algorithmically and approximate addresses of centers of those areas will be obtained using **Google Maps API reverse geocoding**\n",
    "* number of restaurants and their type and location in every neighborhood will be obtained using **Foursquare API**\n",
    "* coordinate of Dublin center will be obtained using **Google Maps API geocoding** of well known Dublin location "
   ]
  },
  {
   "cell_type": "code",
   "execution_count": null,
   "metadata": {},
   "outputs": [],
   "source": []
  },
  {
   "cell_type": "code",
   "execution_count": null,
   "metadata": {},
   "outputs": [],
   "source": []
  }
 ],
 "metadata": {
  "kernelspec": {
   "display_name": "Python 3",
   "language": "python",
   "name": "python3"
  },
  "language_info": {
   "codemirror_mode": {
    "name": "ipython",
    "version": 3
   },
   "file_extension": ".py",
   "mimetype": "text/x-python",
   "name": "python",
   "nbconvert_exporter": "python",
   "pygments_lexer": "ipython3",
   "version": "3.6.8"
  }
 },
 "nbformat": 4,
 "nbformat_minor": 2
}
